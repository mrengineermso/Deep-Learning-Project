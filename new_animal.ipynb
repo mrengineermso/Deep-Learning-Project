{
  "cells": [
    {
      "cell_type": "markdown",
      "metadata": {
        "id": "view-in-github",
        "colab_type": "text"
      },
      "source": [
        "<a href=\"https://colab.research.google.com/github/mrengineermso/Deep-Learning-Project/blob/main/new_animal.ipynb\" target=\"_parent\"><img src=\"https://colab.research.google.com/assets/colab-badge.svg\" alt=\"Open In Colab\"/></a>"
      ]
    },
    {
      "cell_type": "code",
      "execution_count": 27,
      "metadata": {
        "id": "UoJoW-2jHpYm"
      },
      "outputs": [],
      "source": [
        "%matplotlib inline\n",
        "import matplotlib.pyplot as plt\n",
        "import numpy as np\n",
        "import tensorflow as tf\n",
        "import random\n",
        "from cv2 import resize\n",
        "from glob import glob"
      ]
    },
    {
      "cell_type": "code",
      "source": [
        "from google.colab import drive\n",
        "drive.mount('/content/gdrive')"
      ],
      "metadata": {
        "colab": {
          "base_uri": "https://localhost:8080/"
        },
        "id": "XkfAK9NiVnIJ",
        "outputId": "32d885ff-6d3e-4809-ceeb-e6ed88e91042"
      },
      "execution_count": 7,
      "outputs": [
        {
          "output_type": "stream",
          "name": "stdout",
          "text": [
            "Mounted at /content/gdrive\n"
          ]
        }
      ]
    },
    {
      "cell_type": "code",
      "source": [
        "!ls '/content/gdrive/My Drive/Animal_Classification/'"
      ],
      "metadata": {
        "colab": {
          "base_uri": "https://localhost:8080/"
        },
        "id": "Vc91Z3c1VuFn",
        "outputId": "dfb6cb2f-3a97-4eac-8d72-97ab4414ab04"
      },
      "execution_count": 8,
      "outputs": [
        {
          "output_type": "stream",
          "name": "stdout",
          "text": [
            "animals  hayvansınıflandırma.ipynb  model_weight.h5\n"
          ]
        }
      ]
    },
    {
      "cell_type": "code",
      "source": [
        "img_height = 224\n",
        "img_width = 224\n",
        "\n",
        "train_ds = tf.keras.utils.image_dataset_from_directory(\n",
        "  '/content/gdrive/My Drive/Animal_Classification/animals',\n",
        "  validation_split=0.2,\n",
        "  subset='training',\n",
        "  image_size=(img_height, img_width),\n",
        "  batch_size=32,\n",
        "  seed=42,\n",
        "  shuffle=True)\n",
        "\n"
      ],
      "metadata": {
        "colab": {
          "base_uri": "https://localhost:8080/"
        },
        "id": "HHN6CeWVf2dV",
        "outputId": "edf4a189-27e4-40ad-b397-2d672ab22aea"
      },
      "execution_count": 28,
      "outputs": [
        {
          "output_type": "stream",
          "name": "stdout",
          "text": [
            "Found 5402 files belonging to 90 classes.\n",
            "Using 4322 files for training.\n"
          ]
        }
      ]
    },
    {
      "cell_type": "code",
      "source": [
        "val_ds = tf.keras.utils.image_dataset_from_directory(\n",
        "  '/content/gdrive/My Drive/Animal_Classification/animals',\n",
        "  validation_split=0.2,\n",
        "  subset='validation',\n",
        "  image_size=(img_height, img_width),\n",
        "  batch_size=32,\n",
        "  seed=42,\n",
        "  shuffle=True)"
      ],
      "metadata": {
        "colab": {
          "base_uri": "https://localhost:8080/"
        },
        "id": "9ToNqHy9f-Wv",
        "outputId": "51452e7a-876e-49bd-c776-4ce981c67c1e"
      },
      "execution_count": 29,
      "outputs": [
        {
          "output_type": "stream",
          "name": "stdout",
          "text": [
            "Found 5402 files belonging to 90 classes.\n",
            "Using 1080 files for validation.\n"
          ]
        }
      ]
    },
    {
      "cell_type": "code",
      "source": [
        "base_model = tf.keras.applications.VGG16(\n",
        "    include_top=False,\n",
        "    weights='imagenet',\n",
        "    input_shape=(img_height, img_width, 3)\n",
        ")\n",
        "base_model.trainable = False "
      ],
      "metadata": {
        "id": "iX8gz02_V3ag"
      },
      "execution_count": 30,
      "outputs": []
    },
    {
      "cell_type": "code",
      "source": [
        "inputs = tf.keras.Input(shape=(img_height, img_width, 3))\n",
        "x = tf.keras.applications.vgg16.preprocess_input(inputs)\n",
        "x = base_model(x, training=False)\n",
        "x = tf.keras.layers.GlobalAveragePooling2D()(x)\n",
        "x = tf.keras.layers.Dropout(0.3)(x)\n",
        "outputs = tf.keras.layers.Dense(90)(x)\n",
        "model = tf.keras.Model(inputs, outputs)\n",
        "\n",
        "model.summary()"
      ],
      "metadata": {
        "colab": {
          "base_uri": "https://localhost:8080/"
        },
        "id": "N_rZKPQoV7k2",
        "outputId": "b4c77f92-a6ac-4d7b-f2be-66162e5f1dca"
      },
      "execution_count": 31,
      "outputs": [
        {
          "output_type": "stream",
          "name": "stdout",
          "text": [
            "Model: \"model_4\"\n",
            "_________________________________________________________________\n",
            " Layer (type)                Output Shape              Param #   \n",
            "=================================================================\n",
            " input_6 (InputLayer)        [(None, 224, 224, 3)]     0         \n",
            "                                                                 \n",
            " tf.__operators__.getitem (S  (None, 224, 224, 3)      0         \n",
            " licingOpLambda)                                                 \n",
            "                                                                 \n",
            " tf.nn.bias_add (TFOpLambda)  (None, 224, 224, 3)      0         \n",
            "                                                                 \n",
            " vgg16 (Functional)          (None, 7, 7, 512)         14714688  \n",
            "                                                                 \n",
            " global_average_pooling2d_4   (None, 512)              0         \n",
            " (GlobalAveragePooling2D)                                        \n",
            "                                                                 \n",
            " dropout (Dropout)           (None, 512)               0         \n",
            "                                                                 \n",
            " dense_8 (Dense)             (None, 90)                46170     \n",
            "                                                                 \n",
            "=================================================================\n",
            "Total params: 14,760,858\n",
            "Trainable params: 46,170\n",
            "Non-trainable params: 14,714,688\n",
            "_________________________________________________________________\n"
          ]
        }
      ]
    },
    {
      "cell_type": "code",
      "source": [
        "model.compile(optimizer=tf.keras.optimizers.Adam(0.001),\n",
        "              loss=tf.keras.losses.SparseCategoricalCrossentropy(from_logits=True),\n",
        "              metrics=['accuracy'])"
      ],
      "metadata": {
        "id": "0JKIRyoVV9NB"
      },
      "execution_count": 32,
      "outputs": []
    },
    {
      "cell_type": "code",
      "source": [
        "num_epochs = 10\n",
        "history=model.fit(train_ds, validation_data=val_ds, epochs=num_epochs,\n",
        "    callbacks = [\n",
        "        tf.keras.callbacks.EarlyStopping(\n",
        "            # Stop training when `val_loss` is no longer improving\n",
        "            monitor=\"val_loss\",\n",
        "            # \"no longer improving\" being defined as \"no better than 1e-2 less\"\n",
        "            min_delta=1e-2,\n",
        "            # \"no longer improving\" being further defined as \"for at least 2 epochs\"\n",
        "            patience=2,\n",
        "            verbose=1,\n",
        "            restore_best_weights=True\n",
        "        )\n",
        "    ]\n",
        ")"
      ],
      "metadata": {
        "colab": {
          "base_uri": "https://localhost:8080/"
        },
        "id": "eaAwwUYZgLuP",
        "outputId": "dfff61b8-8975-45ee-a6df-b0bc21d48830"
      },
      "execution_count": 40,
      "outputs": [
        {
          "output_type": "stream",
          "name": "stdout",
          "text": [
            "Epoch 1/10\n",
            "136/136 [==============================] - 34s 239ms/step - loss: 0.5605 - accuracy: 0.8635 - val_loss: 0.9535 - val_accuracy: 0.8222\n",
            "Epoch 2/10\n",
            "136/136 [==============================] - 33s 233ms/step - loss: 0.4639 - accuracy: 0.8758 - val_loss: 0.9851 - val_accuracy: 0.8241\n",
            "Epoch 3/10\n",
            "135/136 [============================>.] - ETA: 0s - loss: 0.4109 - accuracy: 0.8956Restoring model weights from the end of the best epoch: 1.\n",
            "136/136 [==============================] - 33s 231ms/step - loss: 0.4114 - accuracy: 0.8954 - val_loss: 0.9799 - val_accuracy: 0.8176\n",
            "Epoch 3: early stopping\n"
          ]
        }
      ]
    },
    {
      "cell_type": "code",
      "source": [
        "# Modeli kaydetme\n",
        "model.save('/content/gdrive/My Drive/Animal_Classification/model.h5')\n",
        "\n",
        "# Epoch-accuracy, epoch-loss ve epoch-F1 skor grafiklerini çizdirme\n",
        "epochs = range(1, num_epochs + 1)\n",
        "plt.figure(figsize=(15, 5))\n",
        "\n"
      ],
      "metadata": {
        "colab": {
          "base_uri": "https://localhost:8080/",
          "height": 52
        },
        "id": "kA22BWL1i7-A",
        "outputId": "648f2d03-a2e9-44cd-d921-b509cdac5da6"
      },
      "execution_count": 42,
      "outputs": [
        {
          "output_type": "execute_result",
          "data": {
            "text/plain": [
              "<Figure size 1500x500 with 0 Axes>"
            ]
          },
          "metadata": {},
          "execution_count": 42
        },
        {
          "output_type": "display_data",
          "data": {
            "text/plain": [
              "<Figure size 1500x500 with 0 Axes>"
            ]
          },
          "metadata": {}
        }
      ]
    },
    {
      "cell_type": "code",
      "source": [
        "import matplotlib.pyplot as plt\n",
        "\n"
      ],
      "metadata": {
        "id": "QdWhRirdi_-z"
      },
      "execution_count": 44,
      "outputs": []
    }
  ],
  "metadata": {
    "accelerator": "GPU",
    "colab": {
      "provenance": [],
      "gpuType": "T4",
      "authorship_tag": "ABX9TyOXSd8TFTlYKKMngzHsb9e8",
      "include_colab_link": true
    },
    "kernelspec": {
      "display_name": "Python 3",
      "name": "python3"
    },
    "language_info": {
      "name": "python"
    }
  },
  "nbformat": 4,
  "nbformat_minor": 0
}